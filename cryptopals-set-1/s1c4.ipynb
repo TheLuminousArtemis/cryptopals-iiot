{
 "cells": [
  {
   "cell_type": "code",
   "execution_count": 6,
   "metadata": {},
   "outputs": [],
   "source": [
    "hex_digits = \"0123456789abcdef\"\n",
    "\n",
    "def split_chunks(l, n):\n",
    "    ch = []\n",
    "    for x in l:\n",
    "        ch.append(x)\n",
    "        if len(ch) == n:\n",
    "            yield ch\n",
    "            ch = []\n",
    "    if ch:\n",
    "        yield ch\n",
    "\n",
    "\n",
    "def hex_decode(text):\n",
    "    lookup = {y: x for x, y in enumerate(hex_digits)}\n",
    "\n",
    "    res = []\n",
    "\n",
    "    for first, second in split_chunks(text, 2):\n",
    "        first = lookup[first]\n",
    "        second = lookup[second]\n",
    "\n",
    "        byte = first << 4 | second\n",
    "        res.append(byte)\n",
    "\n",
    "    return bytes(res)"
   ]
  },
  {
   "cell_type": "code",
   "execution_count": 7,
   "metadata": {},
   "outputs": [],
   "source": [
    "import requests\n",
    "\n",
    "URL = \"https://cryptopals.com/static/challenge-data/4.txt\"\n",
    "data = requests.get(URL).text.split(\"\\n\")\n",
    "data = list(map(hex_decode, data))"
   ]
  },
  {
   "cell_type": "code",
   "execution_count": 8,
   "metadata": {},
   "outputs": [],
   "source": [
    "def single_xor(ciphertext, key):\n",
    "    plain = [x ^ key for x in ciphertext]\n",
    "    return bytes(plain)"
   ]
  },
  {
   "cell_type": "code",
   "execution_count": 9,
   "metadata": {},
   "outputs": [],
   "source": [
    "import string\n",
    "def english_score(data):\n",
    "    s = 0\n",
    "    data = data.lower()\n",
    "    common = b\"etaoin shrdlu\"[::-1]\n",
    "\n",
    "    for c in data:\n",
    "        if chr(c) not in string.printable:\n",
    "            return 0\n",
    "\n",
    "        i = common.find(c)\n",
    "        if i != -1:\n",
    "            s += i\n",
    "\n",
    "    return s"
   ]
  },
  {
   "cell_type": "code",
   "execution_count": 10,
   "metadata": {},
   "outputs": [
    {
     "name": "stdout",
     "output_type": "stream",
     "text": [
      "b'Now that the party is jumping\\n'\n"
     ]
    }
   ],
   "source": [
    "candidates = []\n",
    "\n",
    "for ciphertext in data:\n",
    "    for key in range(255):\n",
    "        plain = single_xor(ciphertext, key)\n",
    "        candidates.append(plain)\n",
    "\n",
    "print(max(candidates, key=english_score))"
   ]
  }
 ],
 "metadata": {
  "kernelspec": {
   "display_name": "base",
   "language": "python",
   "name": "python3"
  },
  "language_info": {
   "codemirror_mode": {
    "name": "ipython",
    "version": 3
   },
   "file_extension": ".py",
   "mimetype": "text/x-python",
   "name": "python",
   "nbconvert_exporter": "python",
   "pygments_lexer": "ipython3",
   "version": "3.11.5"
  }
 },
 "nbformat": 4,
 "nbformat_minor": 2
}
