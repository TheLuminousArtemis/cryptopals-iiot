{
 "cells": [
  {
   "cell_type": "markdown",
   "metadata": {},
   "source": [
    "Desired Output - 746865206b696420646f6e277420706c6179"
   ]
  },
  {
   "cell_type": "code",
   "execution_count": 1,
   "metadata": {},
   "outputs": [],
   "source": [
    "def fixed_xor(b1, b2):\n",
    "    d_b1 = bytes.fromhex(b1)\n",
    "    d_b2 = bytes.fromhex(b2)\n",
    "\n",
    "    xor_result = bytes(x ^ y for x, y in zip(d_b1, d_b2))\n",
    "\n",
    "    result_hex = xor_result.hex()\n",
    "\n",
    "    return result_hex"
   ]
  },
  {
   "cell_type": "code",
   "execution_count": 2,
   "metadata": {},
   "outputs": [],
   "source": [
    "input_string1 = \"1c0111001f010100061a024b53535009181c\"\n",
    "input_string2 = \"686974207468652062756c6c277320657965\""
   ]
  },
  {
   "cell_type": "code",
   "execution_count": 3,
   "metadata": {},
   "outputs": [
    {
     "name": "stdout",
     "output_type": "stream",
     "text": [
      "746865206b696420646f6e277420706c6179\n"
     ]
    }
   ],
   "source": [
    "print(f\"Final Output: \",fixed_xor(input_string1,input_string2))"
   ]
  }
 ],
 "metadata": {
  "kernelspec": {
   "display_name": "base",
   "language": "python",
   "name": "python3"
  },
  "language_info": {
   "codemirror_mode": {
    "name": "ipython",
    "version": 3
   },
   "file_extension": ".py",
   "mimetype": "text/x-python",
   "name": "python",
   "nbconvert_exporter": "python",
   "pygments_lexer": "ipython3",
   "version": "3.11.5"
  }
 },
 "nbformat": 4,
 "nbformat_minor": 2
}
