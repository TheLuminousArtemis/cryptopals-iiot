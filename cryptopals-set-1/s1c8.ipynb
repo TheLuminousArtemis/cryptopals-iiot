{
 "cells": [
  {
   "cell_type": "code",
   "execution_count": 1,
   "metadata": {},
   "outputs": [],
   "source": [
    "import string\n",
    "import requests\n",
    "import Crypto"
   ]
  },
  {
   "cell_type": "code",
   "execution_count": 2,
   "metadata": {},
   "outputs": [],
   "source": [
    "hex_digits = \"0123456789abcdef\"\n",
    "values = string.ascii_uppercase + string.ascii_lowercase + string.digits + \"+/\"\n",
    "\n",
    "\n",
    "def split_chunks(l, n):\n",
    "    ch = []\n",
    "    for x in l:\n",
    "        ch.append(x)\n",
    "        if len(ch) == n:\n",
    "            yield ch\n",
    "            ch = []\n",
    "    if ch:\n",
    "        yield ch\n",
    "\n",
    "\n",
    "def hex_decode(text):\n",
    "    lookup = {y: x for x, y in enumerate(hex_digits)}\n",
    "\n",
    "    res = []\n",
    "\n",
    "    for first, second in split_chunks(text, 2):\n",
    "        first = lookup[first]\n",
    "        second = lookup[second]\n",
    "\n",
    "        byte = first << 4 | second\n",
    "        res.append(byte)\n",
    "\n",
    "    return bytes(res)\n",
    "\n",
    "\n",
    "def groups(data, n):\n",
    "    group = []\n",
    "    for x in data:\n",
    "        group.append(x)\n",
    "        if len(group) == n:\n",
    "            yield \"\".join(group)\n",
    "            group = []\n",
    "    if group:\n",
    "        yield \"\".join(group)\n",
    "\n",
    "\n",
    "def b64_groups(data):\n",
    "    digits = binary_digits(data)\n",
    "    for num in groups(digits, 6):\n",
    "        num = int(num, 2)\n",
    "        yield values[num]\n",
    "\n",
    "\n",
    "def base64_encode(data):\n",
    "    res = \"\"\n",
    "    for b64 in groups(b64_groups(data), 4):\n",
    "        res += b64\n",
    "        for _ in range(4 - len(b64)):\n",
    "            res += \"=\"\n",
    "\n",
    "    return res\n",
    "\n",
    "\n",
    "def b64_to_binary(text):\n",
    "    for c in text:\n",
    "        x = values.find(c)\n",
    "        if x != -1:\n",
    "            for i in range(6)[::-1]:\n",
    "                bit = (x >> i) & 1\n",
    "                yield str(int(bit))\n",
    "\n",
    "\n",
    "def binary_digits(data):\n",
    "    for byte in data:\n",
    "        for i in range(8)[::-1]:\n",
    "            i = (byte >> i) & 1\n",
    "            yield str(int(i))\n",
    "\n",
    "\n",
    "def base64_decode(text):\n",
    "    res = []\n",
    "    for gr in groups(b64_to_binary(text), 8):\n",
    "        if len(gr) != 8:\n",
    "            break\n",
    "        res.append(int(gr, 2))\n",
    "\n",
    "    return bytes(res)\n",
    "\n",
    "\n",
    "def single_xor(ciphertext, key):\n",
    "    plain = [x ^ key for x in ciphertext]\n",
    "    return bytes(plain)\n",
    "\n",
    "\n",
    "def repeating_xor(data, key):\n",
    "    res = []\n",
    "    for i, c in enumerate(data):\n",
    "        k = key[i % len(key)]\n",
    "        res.append(c ^ k)\n",
    "    return bytes(res)"
   ]
  },
  {
   "cell_type": "code",
   "execution_count": 3,
   "metadata": {},
   "outputs": [
    {
     "data": {
      "text/plain": [
       "205"
      ]
     },
     "execution_count": 3,
     "metadata": {},
     "output_type": "execute_result"
    }
   ],
   "source": [
    "URL = \"https://cryptopals.com/static/challenge-data/8.txt\"\n",
    "ciphertexts = requests.get(URL).text.split(\"\\n\")\n",
    "\n",
    "len(ciphertexts)"
   ]
  },
  {
   "cell_type": "code",
   "execution_count": 4,
   "metadata": {},
   "outputs": [
    {
     "name": "stdout",
     "output_type": "stream",
     "text": [
      "132 1 4\n",
      "132 3 4\n",
      "132 5 4\n",
      "132 7 4\n"
     ]
    }
   ],
   "source": [
    "for num, ciphertext in enumerate(ciphertexts):\n",
    "    data = hex_decode(ciphertext)\n",
    "    chunks = [data[i : i + 16] for i in range(0, len(data), 16)]\n",
    "    for i, ch in enumerate(chunks):\n",
    "        count = chunks.count(ch)\n",
    "        if count != 1:\n",
    "            print(num, i, count)"
   ]
  }
 ],
 "metadata": {
  "kernelspec": {
   "display_name": "prac",
   "language": "python",
   "name": "python3"
  },
  "language_info": {
   "codemirror_mode": {
    "name": "ipython",
    "version": 3
   },
   "file_extension": ".py",
   "mimetype": "text/x-python",
   "name": "python",
   "nbconvert_exporter": "python",
   "pygments_lexer": "ipython3",
   "version": "3.10.13"
  }
 },
 "nbformat": 4,
 "nbformat_minor": 2
}
