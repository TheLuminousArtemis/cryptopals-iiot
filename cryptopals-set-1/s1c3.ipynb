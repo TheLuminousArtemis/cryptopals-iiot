{
 "cells": [
  {
   "cell_type": "code",
   "execution_count": 10,
   "metadata": {},
   "outputs": [],
   "source": [
    "from string import printable"
   ]
  },
  {
   "cell_type": "code",
   "execution_count": 11,
   "metadata": {},
   "outputs": [],
   "source": [
    "hex_digits = \"0123456789abcdef\"\n",
    "\n",
    "\n",
    "def split_chunks(l, n):\n",
    "    ch = []\n",
    "    for x in l:\n",
    "        ch.append(x)\n",
    "        if len(ch) == n:\n",
    "            yield ch\n",
    "            ch = []\n",
    "    if ch:\n",
    "        yield ch\n",
    "\n",
    "\n",
    "def hex_decode(text):\n",
    "    lookup = {y: x for x, y in enumerate(hex_digits)}\n",
    "\n",
    "    res = []\n",
    "\n",
    "    for first, second in split_chunks(text, 2):\n",
    "        first = lookup[first]\n",
    "        second = lookup[second]\n",
    "\n",
    "        byte = first << 4 | second\n",
    "        res.append(byte)\n",
    "\n",
    "    return bytes(res)"
   ]
  },
  {
   "cell_type": "code",
   "execution_count": 12,
   "metadata": {},
   "outputs": [],
   "source": [
    "def single_xor(ciphertext, key):\n",
    "    plain = [x ^ key for x in ciphertext]\n",
    "    return bytes(plain)"
   ]
  },
  {
   "cell_type": "code",
   "execution_count": 13,
   "metadata": {},
   "outputs": [],
   "source": [
    "def english_score(data):\n",
    "    s = 0\n",
    "    data = data.lower()\n",
    "    common = b\"etaoin shrdlu\"[::-1]\n",
    "\n",
    "    for c in data:\n",
    "        if chr(c) not in printable:\n",
    "            return 0\n",
    "\n",
    "        i = common.find(c)\n",
    "        if i != -1:\n",
    "            s += i\n",
    "\n",
    "    return s"
   ]
  },
  {
   "cell_type": "code",
   "execution_count": 14,
   "metadata": {},
   "outputs": [],
   "source": [
    "ciphertext = hex_decode(\n",
    "    \"1b37373331363f78151b7f2b783431333d78397828372d363c78373e783a393b3736\"\n",
    ")"
   ]
  },
  {
   "cell_type": "code",
   "execution_count": 15,
   "metadata": {},
   "outputs": [
    {
     "data": {
      "text/plain": [
       "88"
      ]
     },
     "execution_count": 15,
     "metadata": {},
     "output_type": "execute_result"
    }
   ],
   "source": [
    "key = max(range(255), key=lambda x: english_score(single_xor(ciphertext, x)))\n",
    "key"
   ]
  },
  {
   "cell_type": "code",
   "execution_count": 16,
   "metadata": {},
   "outputs": [
    {
     "data": {
      "text/plain": [
       "b\"Cooking MC's like a pound of bacon\""
      ]
     },
     "execution_count": 16,
     "metadata": {},
     "output_type": "execute_result"
    }
   ],
   "source": [
    "single_xor(ciphertext, key)"
   ]
  }
 ],
 "metadata": {
  "kernelspec": {
   "display_name": "base",
   "language": "python",
   "name": "python3"
  },
  "language_info": {
   "codemirror_mode": {
    "name": "ipython",
    "version": 3
   },
   "file_extension": ".py",
   "mimetype": "text/x-python",
   "name": "python",
   "nbconvert_exporter": "python",
   "pygments_lexer": "ipython3",
   "version": "3.10.13"
  }
 },
 "nbformat": 4,
 "nbformat_minor": 2
}
