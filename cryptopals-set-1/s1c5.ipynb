{
 "cells": [
  {
   "cell_type": "code",
   "execution_count": 4,
   "metadata": {},
   "outputs": [],
   "source": [
    "data = b\"Burning 'em, if you ain't quick and nimble\\nI go crazy when I hear a cymbal\""
   ]
  },
  {
   "cell_type": "code",
   "execution_count": 5,
   "metadata": {},
   "outputs": [],
   "source": [
    "key = b\"ICE\""
   ]
  },
  {
   "cell_type": "code",
   "execution_count": 6,
   "metadata": {},
   "outputs": [],
   "source": [
    "def groups(data, n):\n",
    "    group = []\n",
    "    for x in data:\n",
    "        group.append(x)\n",
    "        if len(group) == n:\n",
    "            yield \"\".join(group)\n",
    "            group = []\n",
    "    if group:\n",
    "        yield \"\".join(group)"
   ]
  },
  {
   "cell_type": "code",
   "execution_count": 7,
   "metadata": {},
   "outputs": [
    {
     "name": "stdout",
     "output_type": "stream",
     "text": [
      "0b3637272a2b2e63622c2e696\n",
      "92a23693a2a3c6324202d623d\n",
      "63343c2a26226324272765272\n",
      "a282b2f20430a652e2c652a31\n",
      "24333a653e2b2027630c692b2\n",
      "0283165286326302e27282f\n"
     ]
    }
   ],
   "source": [
    "def repeating_xor(data, key):\n",
    "    res = []\n",
    "    for i, c in enumerate(data):\n",
    "        k = key[i % len(key)]\n",
    "        res.append(c ^ k)\n",
    "    return bytes(res)\n",
    "\n",
    "\n",
    "encrypted = repeating_xor(data, key).hex()\n",
    "\n",
    "for gr in groups(encrypted, 25):\n",
    "    print(gr)"
   ]
  }
 ],
 "metadata": {
  "kernelspec": {
   "display_name": "base",
   "language": "python",
   "name": "python3"
  },
  "language_info": {
   "codemirror_mode": {
    "name": "ipython",
    "version": 3
   },
   "file_extension": ".py",
   "mimetype": "text/x-python",
   "name": "python",
   "nbconvert_exporter": "python",
   "pygments_lexer": "ipython3",
   "version": "3.11.5"
  }
 },
 "nbformat": 4,
 "nbformat_minor": 2
}
