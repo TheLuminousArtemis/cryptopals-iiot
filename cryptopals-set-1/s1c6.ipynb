{
 "cells": [
  {
   "cell_type": "code",
   "execution_count": 31,
   "metadata": {},
   "outputs": [],
   "source": [
    "import string\n",
    "import requests"
   ]
  },
  {
   "cell_type": "code",
   "execution_count": 32,
   "metadata": {},
   "outputs": [],
   "source": [
    "hex_digits = \"0123456789abcdef\"\n",
    "values = string.ascii_uppercase + string.ascii_lowercase + string.digits + \"+/\"\n",
    "\n",
    "\n",
    "def split_chunks(l, n):\n",
    "    ch = []\n",
    "    for x in l:\n",
    "        ch.append(x)\n",
    "        if len(ch) == n:\n",
    "            yield ch\n",
    "            ch = []\n",
    "    if ch:\n",
    "        yield ch\n",
    "\n",
    "\n",
    "def hex_decode(text):\n",
    "    lookup = {y: x for x, y in enumerate(hex_digits)}\n",
    "\n",
    "    res = []\n",
    "\n",
    "    for first, second in split_chunks(text, 2):\n",
    "        first = lookup[first]\n",
    "        second = lookup[second]\n",
    "\n",
    "        byte = first << 4 | second\n",
    "        res.append(byte)\n",
    "\n",
    "    return bytes(res)\n",
    "\n",
    "\n",
    "def groups(data, n):\n",
    "    group = []\n",
    "    for x in data:\n",
    "        group.append(x)\n",
    "        if len(group) == n:\n",
    "            yield \"\".join(group)\n",
    "            group = []\n",
    "    if group:\n",
    "        yield \"\".join(group)\n",
    "\n",
    "\n",
    "def b64_groups(data):\n",
    "    digits = binary_digits(data)\n",
    "    for num in groups(digits, 6):\n",
    "        num = int(num, 2)\n",
    "        yield values[num]\n",
    "\n",
    "\n",
    "def base64_encode(data):\n",
    "    res = \"\"\n",
    "    for b64 in groups(b64_groups(data), 4):\n",
    "        res += b64\n",
    "        for _ in range(4 - len(b64)):\n",
    "            res += \"=\"\n",
    "\n",
    "    return res\n",
    "\n",
    "\n",
    "def b64_to_binary(text):\n",
    "    for c in text:\n",
    "        x = values.find(c)\n",
    "        if x != -1:\n",
    "            for i in range(6)[::-1]:\n",
    "                bit = (x >> i) & 1\n",
    "                yield str(int(bit))\n",
    "\n",
    "\n",
    "def binary_digits(data):\n",
    "    for byte in data:\n",
    "        for i in range(8)[::-1]:\n",
    "            i = (byte >> i) & 1\n",
    "            yield str(int(i))\n",
    "\n",
    "\n",
    "def base64_decode(text):\n",
    "    res = []\n",
    "    for gr in groups(b64_to_binary(text), 8):\n",
    "        if len(gr) != 8:\n",
    "            break\n",
    "        res.append(int(gr, 2))\n",
    "\n",
    "    return bytes(res)\n",
    "\n",
    "\n",
    "def single_xor(ciphertext, key):\n",
    "    plain = [x ^ key for x in ciphertext]\n",
    "    return bytes(plain)\n",
    "\n",
    "\n",
    "def repeating_xor(data, key):\n",
    "    res = []\n",
    "    for i, c in enumerate(data):\n",
    "        k = key[i % len(key)]\n",
    "        res.append(c ^ k)\n",
    "    return bytes(res)"
   ]
  },
  {
   "cell_type": "code",
   "execution_count": 33,
   "metadata": {},
   "outputs": [
    {
     "data": {
      "text/plain": [
       "True"
      ]
     },
     "execution_count": 33,
     "metadata": {},
     "output_type": "execute_result"
    }
   ],
   "source": [
    "def edit_dist(buf1, buf2):\n",
    "    bin1 = binary_digits(buf1)\n",
    "    bin2 = binary_digits(buf2)\n",
    "\n",
    "    dist = 0\n",
    "    for b1, b2 in zip(bin1, bin2):\n",
    "        if b1 != b2:\n",
    "            dist += 1\n",
    "\n",
    "    return dist\n",
    "\n",
    "\n",
    "edit_dist(b\"this is a test\", b\"wokka wokka!!!\") == 37"
   ]
  },
  {
   "cell_type": "code",
   "execution_count": 34,
   "metadata": {},
   "outputs": [
    {
     "data": {
      "text/plain": [
       "2876"
      ]
     },
     "execution_count": 34,
     "metadata": {},
     "output_type": "execute_result"
    }
   ],
   "source": [
    "URL = \"https://cryptopals.com/static/challenge-data/6.txt\"\n",
    "text = requests.get(URL).text\n",
    "data = base64_decode(text)\n",
    "\n",
    "len(data)"
   ]
  },
  {
   "cell_type": "code",
   "execution_count": 35,
   "metadata": {},
   "outputs": [
    {
     "data": {
      "text/plain": [
       "29"
      ]
     },
     "execution_count": 35,
     "metadata": {},
     "output_type": "execute_result"
    }
   ],
   "source": [
    "def keysize_edit_distance(ciphertext, keysize):\n",
    "    prev = None\n",
    "    diff = 0\n",
    "    n = 0\n",
    "    for i in range(0, len(data), keysize):\n",
    "        chunk = data[i : i + keysize]\n",
    "        if prev:\n",
    "            diff += edit_dist(chunk, prev) / keysize\n",
    "            n += 1\n",
    "        prev = chunk\n",
    "    diff /= n\n",
    "    return diff\n",
    "\n",
    "\n",
    "keysize = min(range(2, 40), key=lambda x: keysize_edit_distance(data, x))\n",
    "\n",
    "keysize"
   ]
  },
  {
   "cell_type": "code",
   "execution_count": 36,
   "metadata": {},
   "outputs": [],
   "source": [
    "def english_score(data):\n",
    "    s = 0\n",
    "    data = data.lower()\n",
    "    common = b\"etaoin shrdlu\"[::-1]\n",
    "\n",
    "    for c in data:\n",
    "        if chr(c) not in string.printable:\n",
    "            return 0\n",
    "\n",
    "        i = common.find(c)\n",
    "        if i != -1:\n",
    "            s += i\n",
    "\n",
    "    return s"
   ]
  },
  {
   "cell_type": "code",
   "execution_count": 37,
   "metadata": {},
   "outputs": [],
   "source": [
    "key = []\n",
    "\n",
    "blocks = [data[i : i + keysize] for i in range(0, len(data), keysize)]\n",
    "\n",
    "for key_i in range(keysize):\n",
    "    chunk = b\"\"\n",
    "    for bl in blocks:\n",
    "        if key_i < len(bl):\n",
    "            chunk += bytes([bl[key_i]])\n",
    "\n",
    "    k = max(range(255), key=lambda x: english_score(single_xor(chunk, x)))\n",
    "    key.append(k)"
   ]
  },
  {
   "cell_type": "code",
   "execution_count": 38,
   "metadata": {},
   "outputs": [
    {
     "data": {
      "text/plain": [
       "'Terminator X: Bring the noise'"
      ]
     },
     "execution_count": 38,
     "metadata": {},
     "output_type": "execute_result"
    }
   ],
   "source": [
    "bytes(key).decode(\"ascii\")"
   ]
  },
  {
   "cell_type": "code",
   "execution_count": 39,
   "metadata": {},
   "outputs": [
    {
     "name": "stdout",
     "output_type": "stream",
     "text": [
      "I'm back and I'm ringin' the bell \n",
      "A rockin' on the mike while the fly girls yell \n",
      "In ecstasy in the back of me \n",
      "Well that's my DJ Deshay cuttin' all \n"
     ]
    }
   ],
   "source": [
    "plaintext = repeating_xor(data, bytes(key)).decode(\"ascii\")\n",
    "\n",
    "print(plaintext[:150])"
   ]
  }
 ],
 "metadata": {
  "kernelspec": {
   "display_name": "base",
   "language": "python",
   "name": "python3"
  },
  "language_info": {
   "codemirror_mode": {
    "name": "ipython",
    "version": 3
   },
   "file_extension": ".py",
   "mimetype": "text/x-python",
   "name": "python",
   "nbconvert_exporter": "python",
   "pygments_lexer": "ipython3",
   "version": "3.11.5"
  }
 },
 "nbformat": 4,
 "nbformat_minor": 2
}
