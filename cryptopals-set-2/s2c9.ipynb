{
 "cells": [
  {
   "cell_type": "code",
   "execution_count": 1,
   "metadata": {},
   "outputs": [],
   "source": [
    "def split_chunks(l, n):\n",
    "    ch = []\n",
    "    for x in l:\n",
    "        ch.append(x)\n",
    "        if len(ch) == n:\n",
    "            yield ch\n",
    "            ch = []\n",
    "    if ch:\n",
    "        yield ch"
   ]
  },
  {
   "cell_type": "code",
   "execution_count": 2,
   "metadata": {},
   "outputs": [
    {
     "data": {
      "text/plain": [
       "b'YELLOW SUBMARINE\\x04\\x04\\x04\\x04'"
      ]
     },
     "execution_count": 2,
     "metadata": {},
     "output_type": "execute_result"
    }
   ],
   "source": [
    "def pkcs7(data, block_size):\n",
    "    for block in split_chunks(data, block_size):\n",
    "        last = len(block)\n",
    "        diff = block_size - len(block)\n",
    "        while len(block) != block_size:\n",
    "            block.append(diff)\n",
    "        yield from block\n",
    "    if last == block_size:\n",
    "        yield from [block_size] * block_size\n",
    "\n",
    "\n",
    "bytes(pkcs7(b\"YELLOW SUBMARINE\", 20))"
   ]
  }
 ],
 "metadata": {
  "kernelspec": {
   "display_name": "prac",
   "language": "python",
   "name": "python3"
  },
  "language_info": {
   "codemirror_mode": {
    "name": "ipython",
    "version": 3
   },
   "file_extension": ".py",
   "mimetype": "text/x-python",
   "name": "python",
   "nbconvert_exporter": "python",
   "pygments_lexer": "ipython3",
   "version": "3.10.13"
  }
 },
 "nbformat": 4,
 "nbformat_minor": 2
}
