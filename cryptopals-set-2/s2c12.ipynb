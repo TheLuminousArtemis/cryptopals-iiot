{
 "cells": [
  {
   "cell_type": "code",
   "execution_count": 11,
   "metadata": {},
   "outputs": [],
   "source": [
    "from Crypto.Cipher import AES\n",
    "from Crypto.Util.Padding import pad, unpad\n",
    "from base64 import b64decode\n",
    "from os import urandom"
   ]
  },
  {
   "cell_type": "code",
   "execution_count": 12,
   "metadata": {},
   "outputs": [],
   "source": [
    "class EncryptionOracleInterface:\n",
    "    def encrypt(self, data: bytes) -> bytes:\n",
    "        pass"
   ]
  },
  {
   "cell_type": "code",
   "execution_count": 13,
   "metadata": {},
   "outputs": [],
   "source": [
    "def ECB_CBC_detector(oracle: type[EncryptionOracleInterface]) -> str:\n",
    "    data = b\"A\" * 48\n",
    "    ct = oracle.encrypt(data)\n",
    "\n",
    "    blocks = [ct[i : i + AES.block_size] for i in range(0, len(ct), AES.block_size)]\n",
    "\n",
    "    return \"ECB\" if len(blocks) != len(set(blocks)) else \"CBC\""
   ]
  },
  {
   "cell_type": "code",
   "execution_count": 14,
   "metadata": {},
   "outputs": [],
   "source": [
    "class encryptionOracle(EncryptionOracleInterface):\n",
    "    def __init__(self):\n",
    "        self.key = urandom(16)\n",
    "        self.cipher = AES.new(self.key, AES.MODE_ECB)\n",
    "        self.secret = b64decode(\n",
    "            \"Um9sbGluJyBpbiBteSA1LjAKV2l0aCBteSByYWctdG9wIGRvd24gc28gbXkgaGFpciBjYW4gYmxvdwpUaGUgZ2lybGllcyBvbiBzdGFuZGJ5IHdhdmluZyBqdXN0IHRvIHNheSBoaQpEaWQgeW91IHN0b3A/IE5vLCBJIGp1c3QgZHJvdmUgYnkK\"\n",
    "        )\n",
    "\n",
    "    def encrypt(self, data: bytes) -> bytes:\n",
    "        pt = data + self.secret\n",
    "\n",
    "        return self.cipher.encrypt(pad(pt, AES.block_size))"
   ]
  },
  {
   "cell_type": "code",
   "execution_count": 15,
   "metadata": {},
   "outputs": [],
   "source": [
    "def get_block_size(oracle: type[EncryptionOracleInterface]) -> int:\n",
    "    test = b\"\"\n",
    "    base_len = len(oracle.encrypt(test))\n",
    "    new_len = base_len\n",
    "\n",
    "    while new_len == base_len:\n",
    "        test += b\"A\"\n",
    "        new_len = len(oracle.encrypt(test))\n",
    "\n",
    "    return new_len - base_len"
   ]
  },
  {
   "cell_type": "code",
   "execution_count": 16,
   "metadata": {},
   "outputs": [],
   "source": [
    "def recover_secret(oracle: type[EncryptionOracleInterface], secret_size: int) -> bytes:\n",
    "    assert ECB_CBC_detector(oracle) == \"ECB\"\n",
    "\n",
    "    feed = b\"A\" * secret_size\n",
    "    recovered = b\"\"\n",
    "    for i in range(secret_size):\n",
    "        pt = feed[:-i]\n",
    "        ct = oracle.encrypt(pt)\n",
    "        to_match = ct[:secret_size]\n",
    "        for b in range(256):\n",
    "            test = pt + recovered + bytes([b])\n",
    "            if oracle.encrypt(test)[:secret_size] == to_match:\n",
    "                recovered += bytes([b])\n",
    "                break\n",
    "\n",
    "    return recovered"
   ]
  },
  {
   "cell_type": "code",
   "execution_count": 17,
   "metadata": {},
   "outputs": [
    {
     "name": "stdout",
     "output_type": "stream",
     "text": [
      "Rollin' in my 5.0\n",
      "With my rag-top down so my hair can blow\n",
      "The girlies on standby waving just to say hi\n",
      "Did you stop? No, I just drove by\n",
      "\u0001\n"
     ]
    }
   ],
   "source": [
    "oracle = encryptionOracle()\n",
    "secret_size = len(oracle.encrypt(b''))\n",
    "secret = recover_secret(oracle, secret_size)\n",
    "\n",
    "print(secret.decode())"
   ]
  }
 ],
 "metadata": {
  "kernelspec": {
   "display_name": "prac",
   "language": "python",
   "name": "python3"
  },
  "language_info": {
   "codemirror_mode": {
    "name": "ipython",
    "version": 3
   },
   "file_extension": ".py",
   "mimetype": "text/x-python",
   "name": "python",
   "nbconvert_exporter": "python",
   "pygments_lexer": "ipython3",
   "version": "3.10.13"
  }
 },
 "nbformat": 4,
 "nbformat_minor": 2
}
