{
 "cells": [
  {
   "cell_type": "code",
   "execution_count": 2,
   "metadata": {},
   "outputs": [],
   "source": [
    "from Crypto.Cipher import AES\n",
    "from Crypto.Util.Padding import pad, unpad\n",
    "from os import urandom"
   ]
  },
  {
   "cell_type": "code",
   "execution_count": 3,
   "metadata": {},
   "outputs": [],
   "source": [
    "class someService:\n",
    "    def __init__(self):\n",
    "        self.cipher = AES.new(urandom(16), AES.MODE_ECB)\n",
    "        self.next_uid = 10\n",
    "\n",
    "    def encrypt_profile_for(self, address: str) -> bytes:\n",
    "        profile = self._profile_for(address)\n",
    "        return self.cipher.encrypt(pad(profile.encode(), AES.block_size))\n",
    "\n",
    "    def decrypt_profile(self, profile: bytes) -> dict:\n",
    "        params = unpad(self.cipher.decrypt(profile), AES.block_size).decode()\n",
    "        return self._param_parse(params)\n",
    "\n",
    "    def _param_parse(self, params: str) -> dict:\n",
    "        return dict(param.split(\"=\") for param in params.split(\"&\"))\n",
    "\n",
    "    def _profile_for(self, address: str) -> str:\n",
    "        if \"&\" in address or \"=\" in address:\n",
    "            raise ValueError(\"Address can not contain '&' or '='\")\n",
    "\n",
    "        profile = f\"email={address}&uid={self.next_uid}&role=user\"\n",
    "        self.next_uid += 1\n",
    "\n",
    "        return profile"
   ]
  },
  {
   "cell_type": "code",
   "execution_count": 4,
   "metadata": {},
   "outputs": [
    {
     "name": "stdout",
     "output_type": "stream",
     "text": [
      "{'email': 'blah@blah.com', 'uid': '10', 'role': 'user'}\n",
      "{'email': 'AAAAAAAAAAadmin\\x0b\\x0b\\x0b\\x0b\\x0b\\x0b\\x0b\\x0b\\x0b\\x0b\\x0b@haha.com', 'uid': '11', 'role': 'user'}\n",
      "{'email': 'blah@blah.com', 'uid': '10', 'role': 'admin'}\n"
     ]
    }
   ],
   "source": [
    "oracle = someService()\n",
    "\n",
    "blah = oracle.encrypt_profile_for(\"blah@blah.com\")\n",
    "print(oracle.decrypt_profile(blah))\n",
    "\n",
    "garbage = b'AAAAAAAAAAadmin' + b'\\x0b' * 11 + b'@haha.com'\n",
    "garbage_acc = oracle.encrypt_profile_for(garbage.decode())\n",
    "print(oracle.decrypt_profile(garbage_acc))\n",
    "\n",
    "pwned = blah[:32] + garbage_acc[16:32]\n",
    "print(oracle.decrypt_profile(pwned))"
   ]
  }
 ],
 "metadata": {
  "kernelspec": {
   "display_name": "prac",
   "language": "python",
   "name": "python3"
  },
  "language_info": {
   "codemirror_mode": {
    "name": "ipython",
    "version": 3
   },
   "file_extension": ".py",
   "mimetype": "text/x-python",
   "name": "python",
   "nbconvert_exporter": "python",
   "pygments_lexer": "ipython3",
   "version": "3.10.13"
  }
 },
 "nbformat": 4,
 "nbformat_minor": 2
}
