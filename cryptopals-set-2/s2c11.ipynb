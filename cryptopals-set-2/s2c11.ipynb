{
 "cells": [
  {
   "cell_type": "code",
   "execution_count": 14,
   "metadata": {},
   "outputs": [],
   "source": [
    "from Crypto.Cipher import AES\n",
    "from Crypto.Util.Padding import pad, unpad\n",
    "from random import randint\n",
    "from os import urandom"
   ]
  },
  {
   "cell_type": "code",
   "execution_count": 15,
   "metadata": {},
   "outputs": [],
   "source": [
    "class EncryptionOracleInterface:\n",
    "    def encrypt(self, data: bytes) -> bytes:\n",
    "        pass"
   ]
  },
  {
   "cell_type": "code",
   "execution_count": 16,
   "metadata": {},
   "outputs": [],
   "source": [
    "class encryptionOracle(EncryptionOracleInterface):\n",
    "    def __init__(self):\n",
    "        self.history = []\n",
    "        self.key = urandom(16)\n",
    "\n",
    "    def encrypt(self, data: bytes) -> bytes:\n",
    "        pt = urandom(randint(5, 10)) + data + urandom(randint(5, 10))\n",
    "\n",
    "        if randint(0, 1):\n",
    "            self.history.append(\"CBC\")\n",
    "            cipher = AES.new(self.key, AES.MODE_CBC)\n",
    "        else:\n",
    "            self.history.append(\"ECB\")\n",
    "            cipher = AES.new(self.key, AES.MODE_ECB)\n",
    "\n",
    "        return cipher.encrypt(pad(pt, AES.block_size))"
   ]
  },
  {
   "cell_type": "code",
   "execution_count": 17,
   "metadata": {},
   "outputs": [],
   "source": [
    "def ECB_CBC_detector(oracle: type[EncryptionOracleInterface]) -> str:\n",
    "    data = b\"A\" * 48\n",
    "    ct = oracle.encrypt(data)\n",
    "\n",
    "    blocks = [ct[i : i + AES.block_size] for i in range(0, len(ct), AES.block_size)]\n",
    "\n",
    "    return \"ECB\" if len(blocks) != len(set(blocks)) else \"CBC\""
   ]
  },
  {
   "cell_type": "code",
   "execution_count": 20,
   "metadata": {},
   "outputs": [
    {
     "name": "stdout",
     "output_type": "stream",
     "text": [
      "correct? True\n",
      "actual: ['ECB', 'ECB', 'ECB', 'CBC', 'ECB', 'CBC', 'CBC', 'CBC', 'ECB', 'ECB']\n",
      "expect: ['ECB', 'ECB', 'ECB', 'CBC', 'ECB', 'CBC', 'CBC', 'CBC', 'ECB', 'ECB']\n"
     ]
    }
   ],
   "source": [
    "oracle = encryptionOracle()\n",
    "detections = []\n",
    "\n",
    "for _ in range(10):\n",
    "    detections.append(ECB_CBC_detector(oracle))\n",
    "\n",
    "print(f\"correct? {detections == oracle.history}\\nactual: {oracle.history}\\nexpect: {detections}\")\n"
   ]
  }
 ],
 "metadata": {
  "kernelspec": {
   "display_name": "prac",
   "language": "python",
   "name": "python3"
  },
  "language_info": {
   "codemirror_mode": {
    "name": "ipython",
    "version": 3
   },
   "file_extension": ".py",
   "mimetype": "text/x-python",
   "name": "python",
   "nbconvert_exporter": "python",
   "pygments_lexer": "ipython3",
   "version": "3.10.13"
  }
 },
 "nbformat": 4,
 "nbformat_minor": 2
}
