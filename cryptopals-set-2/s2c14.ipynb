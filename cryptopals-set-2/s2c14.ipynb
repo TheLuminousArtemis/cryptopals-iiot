{
 "cells": [
  {
   "cell_type": "code",
   "execution_count": 15,
   "metadata": {},
   "outputs": [],
   "source": [
    "from Crypto.Cipher import AES\n",
    "from Crypto.Util.Padding import pad\n",
    "from base64 import b64decode\n",
    "from os import urandom\n",
    "from random import randint"
   ]
  },
  {
   "cell_type": "code",
   "execution_count": 16,
   "metadata": {},
   "outputs": [],
   "source": [
    "class EncryptionOracleInterface:\n",
    "    def encrypt(self, data: bytes) -> bytes:\n",
    "        pass"
   ]
  },
  {
   "cell_type": "code",
   "execution_count": 17,
   "metadata": {},
   "outputs": [],
   "source": [
    "class encryptionOracle(EncryptionOracleInterface):\n",
    "    def __init__(self):\n",
    "        self.key = urandom(16)\n",
    "        self.cipher = AES.new(self.key, AES.MODE_ECB)\n",
    "        self.prefix = urandom(randint(1, 42))\n",
    "        self.secret = b64decode(\n",
    "            \"Um9sbGluJyBpbiBteSA1LjAKV2l0aCBteSByYWctdG9wIGRvd24gc28gbXkgaGFpciBjYW4gYmxvdwpUaGUgZ2lybGllcyBvbiBzdGFuZGJ5IHdhdmluZyBqdXN0IHRvIHNheSBoaQpEaWQgeW91IHN0b3A/IE5vLCBJIGp1c3QgZHJvdmUgYnkK\"\n",
    "        )\n",
    "\n",
    "    def encrypt(self, data: bytes) -> bytes:\n",
    "        pt = self.prefix + data + self.secret\n",
    "\n",
    "        return self.cipher.encrypt(pad(pt, AES.block_size))"
   ]
  },
  {
   "cell_type": "code",
   "execution_count": 18,
   "metadata": {},
   "outputs": [],
   "source": [
    "def get_start_index_final_prefix_block(oracle: type[EncryptionOracleInterface]) -> int:\n",
    "    no_add = oracle.encrypt(b\"\")\n",
    "    added = oracle.encrypt(b\"A\")\n",
    "\n",
    "    return next((i for i, (a, b) in enumerate(zip(no_add, added)) if a != b), 0)"
   ]
  },
  {
   "cell_type": "code",
   "execution_count": 19,
   "metadata": {},
   "outputs": [],
   "source": [
    "def get_prefix_size(oracle: type[EncryptionOracleInterface]) -> int:\n",
    "    start = get_start_index_final_prefix_block(oracle)\n",
    "\n",
    "    prev_enc = oracle.encrypt(b\"\")[start : start + 16]\n",
    "    feed = b\"A\"\n",
    "    while (current_enc := oracle.encrypt(feed)[start : start + 16]) != prev_enc:\n",
    "        feed += b\"A\"\n",
    "        prev_enc = current_enc\n",
    "\n",
    "    return (start + 16) - (len(feed) - 1)"
   ]
  },
  {
   "cell_type": "code",
   "execution_count": 20,
   "metadata": {},
   "outputs": [],
   "source": [
    "def recover_prefixed_secret(oracle: type[EncryptionOracleInterface]) -> bytes:\n",
    "    prefix_size = get_prefix_size(oracle)\n",
    "    prefix_fill = b\"P\" * (-(prefix_size // -16) - prefix_size)\n",
    "    secret_size = len(oracle.encrypt(prefix_fill)) - (prefix_size + len(prefix_fill))\n",
    "\n",
    "    feed = prefix_fill + b\"A\" * secret_size\n",
    "    compare_len = prefix_size + len(feed)\n",
    "    recovered = b\"\"\n",
    "    for i in range(secret_size):\n",
    "        pt = feed[:-i]\n",
    "        ct = oracle.encrypt(pt)\n",
    "        to_match = ct[:compare_len]\n",
    "        for b in range(256):\n",
    "            test = pt + recovered + bytes([b])\n",
    "            if oracle.encrypt(test)[:compare_len] == to_match:\n",
    "                recovered += bytes([b])\n",
    "                break\n",
    "\n",
    "    return recovered"
   ]
  },
  {
   "cell_type": "code",
   "execution_count": 21,
   "metadata": {},
   "outputs": [
    {
     "name": "stdout",
     "output_type": "stream",
     "text": [
      "Rollin' in my 5.0\n",
      "With my rag-top down so my hair can blow\n",
      "The girlies on standby waving just to say hi\n",
      "Did you stop? No, I just drove by\n",
      "\u0001\n"
     ]
    }
   ],
   "source": [
    "oracle = encryptionOracle()\n",
    "secret = recover_prefixed_secret(oracle)\n",
    "print(secret.decode())"
   ]
  }
 ],
 "metadata": {
  "kernelspec": {
   "display_name": "prac",
   "language": "python",
   "name": "python3"
  },
  "language_info": {
   "codemirror_mode": {
    "name": "ipython",
    "version": 3
   },
   "file_extension": ".py",
   "mimetype": "text/x-python",
   "name": "python",
   "nbconvert_exporter": "python",
   "pygments_lexer": "ipython3",
   "version": "3.10.13"
  }
 },
 "nbformat": 4,
 "nbformat_minor": 2
}
