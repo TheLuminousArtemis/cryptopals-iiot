{
 "cells": [
  {
   "cell_type": "code",
   "execution_count": 1,
   "metadata": {},
   "outputs": [],
   "source": [
    "from Crypto.Util.Padding import unpad"
   ]
  },
  {
   "cell_type": "code",
   "execution_count": 2,
   "metadata": {},
   "outputs": [
    {
     "name": "stdout",
     "output_type": "stream",
     "text": [
      "correct?: True, result: b'ICE ICE BABY'\n",
      "PKCS#7 padding is incorrect.\n",
      "PKCS#7 padding is incorrect.\n"
     ]
    }
   ],
   "source": [
    "test = b\"ICE ICE BABY\\x04\\x04\\x04\\x04\"\n",
    "ans = b\"ICE ICE BABY\"\n",
    "\n",
    "result = unpad(test, 16)\n",
    "print(f\"correct?: {ans == result}, result: {result}\")\n",
    "\n",
    "try:\n",
    "    test = unpad(b\"ICE ICE BABY\\x05\\x05\\x05\\x05\", 16)\n",
    "except ValueError as err:\n",
    "    print(err)\n",
    "\n",
    "try:\n",
    "    test = unpad(b\"ICE ICE BABY\\x01\\x02\\x03\\x04\", 16)\n",
    "except ValueError as err:\n",
    "    print(err)"
   ]
  }
 ],
 "metadata": {
  "kernelspec": {
   "display_name": "prac",
   "language": "python",
   "name": "python3"
  },
  "language_info": {
   "codemirror_mode": {
    "name": "ipython",
    "version": 3
   },
   "file_extension": ".py",
   "mimetype": "text/x-python",
   "name": "python",
   "nbconvert_exporter": "python",
   "pygments_lexer": "ipython3",
   "version": "3.10.13"
  }
 },
 "nbformat": 4,
 "nbformat_minor": 2
}
