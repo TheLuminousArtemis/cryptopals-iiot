{
 "cells": [
  {
   "cell_type": "code",
   "execution_count": 1,
   "metadata": {},
   "outputs": [],
   "source": [
    "from Crypto.Cipher import AES\n",
    "from Crypto.Util.Padding import pad, unpad\n",
    "from os import urandom"
   ]
  },
  {
   "cell_type": "code",
   "execution_count": 2,
   "metadata": {},
   "outputs": [],
   "source": [
    "def xor(*args, **kwargs):\n",
    "    strs = [s for s in args]\n",
    "\n",
    "    length = kwargs.pop(\"length\", \"max\")\n",
    "    if isinstance(length, int):\n",
    "        length = length\n",
    "    elif length == \"max\":\n",
    "        length = max(len(s) for s in strs)\n",
    "    elif length == \"min\":\n",
    "        length = min(len(s) for s in strs)\n",
    "    else:\n",
    "        raise ValueError(\"Invalid value for length parameter\")\n",
    "\n",
    "    def xor_indices(index):\n",
    "        b = 0\n",
    "        for s in strs:\n",
    "            b ^= s[index % len(s)]\n",
    "        return b\n",
    "\n",
    "    return bytes([xor_indices(i) for i in range(length)])"
   ]
  },
  {
   "cell_type": "code",
   "execution_count": 3,
   "metadata": {},
   "outputs": [],
   "source": [
    "class someService:\n",
    "    def __init__(self):\n",
    "        self.key = urandom(16)\n",
    "\n",
    "    def encrypt_user_data(self, data: str) -> bytes:\n",
    "        final_data = self._parse_user_data(data)\n",
    "\n",
    "        return self._encrypt(pad(final_data, AES.block_size))\n",
    "\n",
    "    def is_admin(self, encrypted_data: bytes) -> bool:\n",
    "        iv = encrypted_data[:16]\n",
    "        ct = encrypted_data[16:]\n",
    "        user_data = self._decrypt(ct, iv)\n",
    "\n",
    "        return b\";admin=true;\" in user_data\n",
    "\n",
    "    def _parse_user_data(self, data: str) -> bytes:\n",
    "        data = data.replace(\";\", \"\\\\;\").replace(\"=\", \"\\\\=\")\n",
    "        data = (\n",
    "            \"comment1=cooking%20MCs;userdata=\"\n",
    "            + data\n",
    "            + \";comment2=%20like%20a%20pound%20of%20bacon\"\n",
    "        )\n",
    "\n",
    "        return data.encode()\n",
    "\n",
    "    def _encrypt(self, data: bytes) -> bytes:\n",
    "        cipher = AES.new(self.key, AES.MODE_CBC)\n",
    "\n",
    "        return cipher.encrypt(data)\n",
    "\n",
    "    def _decrypt(self, data: bytes, iv: bytes) -> bytes:\n",
    "        cipher = AES.new(self.key, AES.MODE_CBC, iv)\n",
    "\n",
    "        return unpad(cipher.decrypt(data), AES.block_size)"
   ]
  },
  {
   "cell_type": "code",
   "execution_count": 4,
   "metadata": {},
   "outputs": [],
   "source": [
    "def bit_flip(\n",
    "    target_decryption: bytes, current_decryption: bytes, prev_ct: bytes\n",
    ") -> bytes:\n",
    "    keystream = xor(current_decryption, prev_ct)\n",
    "    flipped_block = xor(target_decryption, keystream)\n",
    "    new_ct = prev_ct[:16] + flipped_block + prev_ct[32:]\n",
    "\n",
    "    return new_ct"
   ]
  },
  {
   "cell_type": "code",
   "execution_count": 5,
   "metadata": {},
   "outputs": [
    {
     "name": "stdout",
     "output_type": "stream",
     "text": [
      "Admin? True\n"
     ]
    }
   ],
   "source": [
    "service = someService()\n",
    "dummy = \"blaahXadminXtrue\"\n",
    "target = \"blaah;admin=true\"\n",
    "\n",
    "encrypted_dummy = service.encrypt_user_data(dummy)\n",
    "\n",
    "flipped_block = bit_flip(target.encode(), dummy.encode(), encrypted_dummy[16:32])\n",
    "flipped_encryption = encrypted_dummy[:16] + flipped_block + encrypted_dummy[32:]\n",
    "\n",
    "admin = service.is_admin(flipped_encryption)\n",
    "print(f\"Admin? {admin}\")"
   ]
  }
 ],
 "metadata": {
  "kernelspec": {
   "display_name": "prac",
   "language": "python",
   "name": "python3"
  },
  "language_info": {
   "codemirror_mode": {
    "name": "ipython",
    "version": 3
   },
   "file_extension": ".py",
   "mimetype": "text/x-python",
   "name": "python",
   "nbconvert_exporter": "python",
   "pygments_lexer": "ipython3",
   "version": "3.10.13"
  }
 },
 "nbformat": 4,
 "nbformat_minor": 2
}
